{
 "cells": [
  {
   "cell_type": "code",
   "execution_count": 1,
   "id": "16d763e9",
   "metadata": {},
   "outputs": [
    {
     "name": "stderr",
     "output_type": "stream",
     "text": [
      "2025-06-21 12:14:28.351252: I tensorflow/core/util/port.cc:153] oneDNN custom operations are on. You may see slightly different numerical results due to floating-point round-off errors from different computation orders. To turn them off, set the environment variable `TF_ENABLE_ONEDNN_OPTS=0`.\n",
      "2025-06-21 12:14:28.360889: E external/local_xla/xla/stream_executor/cuda/cuda_fft.cc:485] Unable to register cuFFT factory: Attempting to register factory for plugin cuFFT when one has already been registered\n",
      "2025-06-21 12:14:28.372477: E external/local_xla/xla/stream_executor/cuda/cuda_dnn.cc:8454] Unable to register cuDNN factory: Attempting to register factory for plugin cuDNN when one has already been registered\n",
      "2025-06-21 12:14:28.375883: E external/local_xla/xla/stream_executor/cuda/cuda_blas.cc:1452] Unable to register cuBLAS factory: Attempting to register factory for plugin cuBLAS when one has already been registered\n",
      "2025-06-21 12:14:28.384844: I tensorflow/core/platform/cpu_feature_guard.cc:210] This TensorFlow binary is optimized to use available CPU instructions in performance-critical operations.\n",
      "To enable the following instructions: AVX2 AVX_VNNI FMA, in other operations, rebuild TensorFlow with the appropriate compiler flags.\n",
      "2025-06-21 12:14:28.982271: W tensorflow/compiler/tf2tensorrt/utils/py_utils.cc:38] TF-TRT Warning: Could not find TensorRT\n"
     ]
    }
   ],
   "source": [
    "import numpy as np\n",
    "import pandas as pd\n",
    "from matplotlib import pyplot as plt\n",
    "import tensorflow\n",
    "import re\n",
    "import nltk\n",
    "from nltk.corpus import stopwords\n",
    "from nltk.stem import WordNetLemmatizer\n",
    "from sklearn.feature_extraction.text import TfidfVectorizer\n",
    "\n",
    "from sklearn.model_selection import train_test_split\n",
    "from sklearn.naive_bayes import GaussianNB,MultinomialNB\n",
    "\n",
    "from sklearn.metrics import accuracy_score,classification_report,confusion_matrix\n",
    "\n"
   ]
  },
  {
   "cell_type": "code",
   "execution_count": 2,
   "id": "ef828375",
   "metadata": {},
   "outputs": [
    {
     "data": {
      "application/vnd.microsoft.datawrangler.viewer.v0+json": {
       "columns": [
        {
         "name": "index",
         "rawType": "int64",
         "type": "integer"
        },
        {
         "name": "label",
         "rawType": "int64",
         "type": "integer"
        },
        {
         "name": "text",
         "rawType": "object",
         "type": "string"
        }
       ],
       "conversionMethod": "pd.DataFrame",
       "ref": "4fca8ba2-25b0-4b5b-b6f4-7b7a6e171045",
       "rows": [
        [
         "0",
         "1",
         "ounce feather bowl hummingbird opec moment alabaster valkyrie dyad bread flack desperate iambic hadron heft quell yoghurt bunkmate divert afterimage"
        ],
        [
         "1",
         "1",
         "wulvob get your medircations online qnb ikud viagra escapenumber escapenumber levitra escapenumber escapenumber cialis escapenumber escapenumber imitrex escapenumber escapenumber flonax escapenumber escapenumber ultram escapenumber escapenumber vioxx escapenumber escapenumber ambien escapenumber escapenumber valium escapenumber escapenumber xannax escapenumber escapenumber soma escapenumber meridia escapenumber escapenumber escapenumber escapenumber cysfrt have you ever stopped to wonder how much an average man pays for his mediecines ap painkillers drugs to improve the quality of life weight reducing tablets and many more escapenumber what's worse the same mediucine costs a lot more if it is branded rfwur are you intrested so http dmvrwm remunerativ net dfuaeirxygiq visit our website escapenumber"
        ],
        [
         "2",
         "0",
         " computer connection from cnn com wednesday escapenumber may escapenumber escapenumber escapenumber escapenumber pm edt in this report next generation toys read brain waves google expands personalization youtube wins webby old fashioned rabbit ears laptop review next generation toys read brain waves a startup company aims to add more realistic elements to video games by using brain wave reading technology to help game developers make gaming more realistic http www cnn com escapenumber tech fun games escapenumber escapenumber mind reading toys ap index html google expands personalization google is stepping up efforts to allow its users to personalize how they search the web http www cnn com escapenumber tech internet escapenumber escapenumber google personalization reut index html youtube wins webby the co founders youtube are among the winners of the annual webby online achievement awards http www cnn com escapenumber tech internet escapenumber escapenumber webby awards ap index html old fashioned rabbit ears some consumers are spending thousands of dollars on lcd or plasma tvs and hooking them up to escapenumber antennas http www cnn com escapenumber tech ptech escapenumber escapenumber rabbit ear revival ap index html laptop review dell's top shelf xps line has consistently put out distinctive laptops that feature the most advanced components on the market http www cnn com escapenumber tech ptech escapenumber escapenumber dell laptop index html cnn the most trusted name in news you have agreed to receive this email from cnn com as a result of your cnn com preference settings to manage your settings click here http audience cnn com services cnn memberservices member auth jsp url http escapenumbera escapenumberf escapelong cnn com escapelong escapenumberfcnn escapelong escapelong escapenumberfmember profile jsp escapenumberfsource escapenumberdcnn to unsubscribe from the computer connection email list click here http cgi cnn com cgi bin mail clik email ktwarwic speedy uwaterloo ca list computing read our privacy guidelines at http cnn com privacy html cable news network lp lllp one cnn center atlanta georgia escapenumber c escapenumber cable news network a time warner company all rights reserved "
        ],
        [
         "3",
         "1",
         "university degree obtain a prosperous future money earning power and the prestige that comes with having the career position youve always dreamed of diploma from prestigious non accredited unversities based on your present knowledge and professional experience if you qualify no required tests classes books or examinations confidentiality assured escapenumber escapenumber escapenumber escapenumber escapenumber hours a day escapenumber days a week including sundays and holidays sun escapenumber jun escapenumber escapenumber escapenumber escapenumber escapenumbershall borrowfor you have "
        ],
        [
         "4",
         "0",
         "thanks for all your answers guys i know i should have checked the rsync manual but i would rather get a escapenumber sure answer from one of you this is my current script bin bash rsync avt \\\\ exclude alpha \\\\ exclude arm \\\\ exclude hppa \\\\ exclude hurd \\\\ exclude iaescapenumber \\\\ exclude mescapenumberk \\\\ exclude mips \\\\ exclude mipsel \\\\ exclude multi arch \\\\ exclude powerpc \\\\ exclude sescapenumber \\\\ exclude sh \\\\ exclude sparc \\\\ exclude source \\\\ ftp de debian org debian cd var www mirror debian cd i know loads of excludes for now will include more distros soon from the rsync manual del an alias for delete during delete delete extraneous files from dest dirs delete before receiver deletes before transfer default delete during receiver deletes during xfer not before delete after receiver deletes after transfer not before delete excluded also delete excluded files from dest dirs which delete would you suggest i use thanks again john escapelong on escapenumber escapenumber escapenumber olleg samoylov wrote jonathan escapelong wrote sorry for the banal question my favourite keys for escapenumber stage rsync rsync verbose recursive links hard links times filter 'r tmp ' delete after delay updates source url destination log file olleg samoylov www escapelong org mirror escapelong org rcrack escapelong org ninux org wireless community rome "
        ]
       ],
       "shape": {
        "columns": 2,
        "rows": 5
       }
      },
      "text/html": [
       "<div>\n",
       "<style scoped>\n",
       "    .dataframe tbody tr th:only-of-type {\n",
       "        vertical-align: middle;\n",
       "    }\n",
       "\n",
       "    .dataframe tbody tr th {\n",
       "        vertical-align: top;\n",
       "    }\n",
       "\n",
       "    .dataframe thead th {\n",
       "        text-align: right;\n",
       "    }\n",
       "</style>\n",
       "<table border=\"1\" class=\"dataframe\">\n",
       "  <thead>\n",
       "    <tr style=\"text-align: right;\">\n",
       "      <th></th>\n",
       "      <th>label</th>\n",
       "      <th>text</th>\n",
       "    </tr>\n",
       "  </thead>\n",
       "  <tbody>\n",
       "    <tr>\n",
       "      <th>0</th>\n",
       "      <td>1</td>\n",
       "      <td>ounce feather bowl hummingbird opec moment ala...</td>\n",
       "    </tr>\n",
       "    <tr>\n",
       "      <th>1</th>\n",
       "      <td>1</td>\n",
       "      <td>wulvob get your medircations online qnb ikud v...</td>\n",
       "    </tr>\n",
       "    <tr>\n",
       "      <th>2</th>\n",
       "      <td>0</td>\n",
       "      <td>computer connection from cnn com wednesday es...</td>\n",
       "    </tr>\n",
       "    <tr>\n",
       "      <th>3</th>\n",
       "      <td>1</td>\n",
       "      <td>university degree obtain a prosperous future m...</td>\n",
       "    </tr>\n",
       "    <tr>\n",
       "      <th>4</th>\n",
       "      <td>0</td>\n",
       "      <td>thanks for all your answers guys i know i shou...</td>\n",
       "    </tr>\n",
       "  </tbody>\n",
       "</table>\n",
       "</div>"
      ],
      "text/plain": [
       "   label                                               text\n",
       "0      1  ounce feather bowl hummingbird opec moment ala...\n",
       "1      1  wulvob get your medircations online qnb ikud v...\n",
       "2      0   computer connection from cnn com wednesday es...\n",
       "3      1  university degree obtain a prosperous future m...\n",
       "4      0  thanks for all your answers guys i know i shou..."
      ]
     },
     "execution_count": 2,
     "metadata": {},
     "output_type": "execute_result"
    }
   ],
   "source": [
    "df=pd.read_csv(r'combined_data.csv')\n",
    "df.head()"
   ]
  },
  {
   "cell_type": "code",
   "execution_count": 3,
   "id": "224fd7d3",
   "metadata": {},
   "outputs": [],
   "source": [
    "def data_info(data):\n",
    "    cols=[]\n",
    "    unique_val=[]\n",
    "    n_uniques=[]\n",
    "    dtypes=[]\n",
    "    nulls=[]\n",
    "    for col in data.columns:\n",
    "        cols.append(col)\n",
    "        dtypes.append(data[col].dtype)\n",
    "        n_uniques.append(data[col].nunique())\n",
    "        unique_val.append(data[col].unique())\n",
    "        nulls.append(data[col].isna().sum())\n",
    "\n",
    "    return pd.DataFrame({\"Col\":cols,\"dtype\":dtypes,\"n_uniques\":n_uniques,\"Unique Values\":unique_val,\"Nulls\":nulls})"
   ]
  },
  {
   "cell_type": "code",
   "execution_count": 4,
   "id": "debd0bcc",
   "metadata": {},
   "outputs": [
    {
     "data": {
      "application/vnd.microsoft.datawrangler.viewer.v0+json": {
       "columns": [
        {
         "name": "index",
         "rawType": "int64",
         "type": "integer"
        },
        {
         "name": "Col",
         "rawType": "object",
         "type": "string"
        },
        {
         "name": "dtype",
         "rawType": "object",
         "type": "unknown"
        },
        {
         "name": "n_uniques",
         "rawType": "int64",
         "type": "integer"
        },
        {
         "name": "Unique Values",
         "rawType": "object",
         "type": "unknown"
        },
        {
         "name": "Nulls",
         "rawType": "int64",
         "type": "integer"
        }
       ],
       "conversionMethod": "pd.DataFrame",
       "ref": "beda29d4-2a72-4b2c-80ae-a1a9cb49dfe5",
       "rows": [
        [
         "0",
         "label",
         "int64",
         "2",
         "[1 0]",
         "0"
        ],
        [
         "1",
         "text",
         "object",
         "83446",
         "['ounce feather bowl hummingbird opec moment alabaster valkyrie dyad bread flack desperate iambic hadron heft quell yoghurt bunkmate divert afterimage'\n \"wulvob get your medircations online qnb ikud viagra escapenumber escapenumber levitra escapenumber escapenumber cialis escapenumber escapenumber imitrex escapenumber escapenumber flonax escapenumber escapenumber ultram escapenumber escapenumber vioxx escapenumber escapenumber ambien escapenumber escapenumber valium escapenumber escapenumber xannax escapenumber escapenumber soma escapenumber meridia escapenumber escapenumber escapenumber escapenumber cysfrt have you ever stopped to wonder how much an average man pays for his mediecines ap painkillers drugs to improve the quality of life weight reducing tablets and many more escapenumber what's worse the same mediucine costs a lot more if it is branded rfwur are you intrested so http dmvrwm remunerativ net dfuaeirxygiq visit our website escapenumber\"\n \" computer connection from cnn com wednesday escapenumber may escapenumber escapenumber escapenumber escapenumber pm edt in this report next generation toys read brain waves google expands personalization youtube wins webby old fashioned rabbit ears laptop review next generation toys read brain waves a startup company aims to add more realistic elements to video games by using brain wave reading technology to help game developers make gaming more realistic http www cnn com escapenumber tech fun games escapenumber escapenumber mind reading toys ap index html google expands personalization google is stepping up efforts to allow its users to personalize how they search the web http www cnn com escapenumber tech internet escapenumber escapenumber google personalization reut index html youtube wins webby the co founders youtube are among the winners of the annual webby online achievement awards http www cnn com escapenumber tech internet escapenumber escapenumber webby awards ap index html old fashioned rabbit ears some consumers are spending thousands of dollars on lcd or plasma tvs and hooking them up to escapenumber antennas http www cnn com escapenumber tech ptech escapenumber escapenumber rabbit ear revival ap index html laptop review dell's top shelf xps line has consistently put out distinctive laptops that feature the most advanced components on the market http www cnn com escapenumber tech ptech escapenumber escapenumber dell laptop index html cnn the most trusted name in news you have agreed to receive this email from cnn com as a result of your cnn com preference settings to manage your settings click here http audience cnn com services cnn memberservices member auth jsp url http escapenumbera escapenumberf escapelong cnn com escapelong escapenumberfcnn escapelong escapelong escapenumberfmember profile jsp escapenumberfsource escapenumberdcnn to unsubscribe from the computer connection email list click here http cgi cnn com cgi bin mail clik email ktwarwic speedy uwaterloo ca list computing read our privacy guidelines at http cnn com privacy html cable news network lp lllp one cnn center atlanta georgia escapenumber c escapenumber cable news network a time warner company all rights reserved \"\n ...\n 'dear valued member canadianpharmacy provides a wide range of pharmaceutical products you will be surprised by the selection of products available canadianpharmacy on line drug store provides quality pharmaceutical products to help you manage your health and well being without spending heaps of money click here and your products will be delivered directly to your doorstephttp bymonth hksafety confidentiality of your information and secure purchasing guaranteed summer discounts for all the customers sincerely yours alphonso childs'\n 'subscribe change profile contact us long term escapenumber day trend weather maps waterloo on monday april escapenumber escapenumber hourly forecast time temperature condition escapenumber am escapenumber°c flurries escapenumber am escapenumber°c flurries escapenumber am escapenumber°c flurries escapenumber am escapenumber°c flurries escapenumber am escapenumber°c scattered showers escapenumber am escapenumber°c light rain escapenumber am escapenumber°c light rain short term forecast monday afternoon monday evening monday overnight tuesday morning escapenumber°c escapenumber°c escapenumber°c escapenumber°c cloudy with showers mainly cloudy variable cloudiness variable cloudiness less than escapenumber mm uv index escapenumber low uv index escapenumber low uv index escapenumber low uv index escapenumber low wind escapenumber km h n wind escapenumber km h n wind escapenumber km h n wind escapenumber km h n p o p escapenumber p o p escapenumber p o p escapenumber p o p escapenumber long term forecast tuesday april escapenumber wednesday april escapenumber thursday april escapenumber friday april escapenumber saturday april escapenumber sunday april escapenumber condition variable cloudiness variable cloudiness variable cloudiness sunny mainly sunny scattered showers high escapenumber°c escapenumber°c escapenumber°c escapenumber°c escapenumber°c escapenumber°c low escapenumber°c escapenumber°c escapenumber°c escapenumber°c escapenumber°c escapenumber°c p o p escapenumber escapenumber escapenumber escapenumber escapenumber escapenumber wind n escapenumber km h ne escapenumber km h e escapenumber km h e escapenumber km h s escapenumber km h s escapenumber km h rain less than escapenumber mm national outlook weather maps more weather maps satellite radar temperature humidex wind chill system precipitation wind speed icon map other weather related services mobile messaging everyday weather on demand weath road hwescapenumber sea to sky email pollendirect fludirect sponsored links to unsubsribe to weather direct click here advertising · help · privacy © escapenumber the weather network'\n \"get the most out of life ! viagra has helped millions of men !\\nfor a good cause , wrongdoing is virtuous .\\ni don ' t want to be anyone but the person i am .\\nthe athlete makes himself , the coach doesn ' t make the athlete .\"]",
         "0"
        ]
       ],
       "shape": {
        "columns": 5,
        "rows": 2
       }
      },
      "text/html": [
       "<div>\n",
       "<style scoped>\n",
       "    .dataframe tbody tr th:only-of-type {\n",
       "        vertical-align: middle;\n",
       "    }\n",
       "\n",
       "    .dataframe tbody tr th {\n",
       "        vertical-align: top;\n",
       "    }\n",
       "\n",
       "    .dataframe thead th {\n",
       "        text-align: right;\n",
       "    }\n",
       "</style>\n",
       "<table border=\"1\" class=\"dataframe\">\n",
       "  <thead>\n",
       "    <tr style=\"text-align: right;\">\n",
       "      <th></th>\n",
       "      <th>Col</th>\n",
       "      <th>dtype</th>\n",
       "      <th>n_uniques</th>\n",
       "      <th>Unique Values</th>\n",
       "      <th>Nulls</th>\n",
       "    </tr>\n",
       "  </thead>\n",
       "  <tbody>\n",
       "    <tr>\n",
       "      <th>0</th>\n",
       "      <td>label</td>\n",
       "      <td>int64</td>\n",
       "      <td>2</td>\n",
       "      <td>[1, 0]</td>\n",
       "      <td>0</td>\n",
       "    </tr>\n",
       "    <tr>\n",
       "      <th>1</th>\n",
       "      <td>text</td>\n",
       "      <td>object</td>\n",
       "      <td>83446</td>\n",
       "      <td>[ounce feather bowl hummingbird opec moment al...</td>\n",
       "      <td>0</td>\n",
       "    </tr>\n",
       "  </tbody>\n",
       "</table>\n",
       "</div>"
      ],
      "text/plain": [
       "     Col   dtype  n_uniques  \\\n",
       "0  label   int64          2   \n",
       "1   text  object      83446   \n",
       "\n",
       "                                       Unique Values  Nulls  \n",
       "0                                             [1, 0]      0  \n",
       "1  [ounce feather bowl hummingbird opec moment al...      0  "
      ]
     },
     "execution_count": 4,
     "metadata": {},
     "output_type": "execute_result"
    }
   ],
   "source": [
    "data_info(df)"
   ]
  },
  {
   "cell_type": "code",
   "execution_count": 5,
   "id": "963a4f52",
   "metadata": {},
   "outputs": [
    {
     "data": {
      "application/vnd.microsoft.datawrangler.viewer.v0+json": {
       "columns": [
        {
         "name": "index",
         "rawType": "object",
         "type": "string"
        },
        {
         "name": "label",
         "rawType": "float64",
         "type": "float"
        }
       ],
       "conversionMethod": "pd.DataFrame",
       "ref": "10cf74ac-31d6-417e-ad4b-23862b38879e",
       "rows": [
        [
         "count",
         "83448.0"
        ],
        [
         "mean",
         "0.5261959543667913"
        ],
        [
         "std",
         "0.4993162922085234"
        ],
        [
         "min",
         "0.0"
        ],
        [
         "25%",
         "0.0"
        ],
        [
         "50%",
         "1.0"
        ],
        [
         "75%",
         "1.0"
        ],
        [
         "max",
         "1.0"
        ]
       ],
       "shape": {
        "columns": 1,
        "rows": 8
       }
      },
      "text/html": [
       "<div>\n",
       "<style scoped>\n",
       "    .dataframe tbody tr th:only-of-type {\n",
       "        vertical-align: middle;\n",
       "    }\n",
       "\n",
       "    .dataframe tbody tr th {\n",
       "        vertical-align: top;\n",
       "    }\n",
       "\n",
       "    .dataframe thead th {\n",
       "        text-align: right;\n",
       "    }\n",
       "</style>\n",
       "<table border=\"1\" class=\"dataframe\">\n",
       "  <thead>\n",
       "    <tr style=\"text-align: right;\">\n",
       "      <th></th>\n",
       "      <th>label</th>\n",
       "    </tr>\n",
       "  </thead>\n",
       "  <tbody>\n",
       "    <tr>\n",
       "      <th>count</th>\n",
       "      <td>83448.000000</td>\n",
       "    </tr>\n",
       "    <tr>\n",
       "      <th>mean</th>\n",
       "      <td>0.526196</td>\n",
       "    </tr>\n",
       "    <tr>\n",
       "      <th>std</th>\n",
       "      <td>0.499316</td>\n",
       "    </tr>\n",
       "    <tr>\n",
       "      <th>min</th>\n",
       "      <td>0.000000</td>\n",
       "    </tr>\n",
       "    <tr>\n",
       "      <th>25%</th>\n",
       "      <td>0.000000</td>\n",
       "    </tr>\n",
       "    <tr>\n",
       "      <th>50%</th>\n",
       "      <td>1.000000</td>\n",
       "    </tr>\n",
       "    <tr>\n",
       "      <th>75%</th>\n",
       "      <td>1.000000</td>\n",
       "    </tr>\n",
       "    <tr>\n",
       "      <th>max</th>\n",
       "      <td>1.000000</td>\n",
       "    </tr>\n",
       "  </tbody>\n",
       "</table>\n",
       "</div>"
      ],
      "text/plain": [
       "              label\n",
       "count  83448.000000\n",
       "mean       0.526196\n",
       "std        0.499316\n",
       "min        0.000000\n",
       "25%        0.000000\n",
       "50%        1.000000\n",
       "75%        1.000000\n",
       "max        1.000000"
      ]
     },
     "execution_count": 5,
     "metadata": {},
     "output_type": "execute_result"
    }
   ],
   "source": [
    "df.describe()"
   ]
  },
  {
   "cell_type": "code",
   "execution_count": 6,
   "id": "9fd4d081",
   "metadata": {},
   "outputs": [
    {
     "data": {
      "text/plain": [
       "0"
      ]
     },
     "execution_count": 6,
     "metadata": {},
     "output_type": "execute_result"
    }
   ],
   "source": [
    "df.duplicated().sum()"
   ]
  },
  {
   "cell_type": "code",
   "execution_count": 7,
   "id": "10f3f51a",
   "metadata": {},
   "outputs": [
    {
     "data": {
      "text/plain": [
       "(83448, 2)"
      ]
     },
     "execution_count": 7,
     "metadata": {},
     "output_type": "execute_result"
    }
   ],
   "source": [
    "df.shape"
   ]
  },
  {
   "cell_type": "code",
   "execution_count": 8,
   "id": "e0adc75e",
   "metadata": {},
   "outputs": [
    {
     "data": {
      "image/png": "[encoded data removed]",
      "text/plain": [
       "<Figure size 800x600 with 1 Axes>"
      ]
     },
     "metadata": {},
     "output_type": "display_data"
    }
   ],
   "source": [
    "import matplotlib.pyplot as plt\n",
    "\n",
    "labels = df['label'].value_counts()\n",
    "\n",
    "plt.figure(figsize=(8, 6))\n",
    "bars = plt.bar(labels.index, labels.values, color='blue')\n",
    "\n",
    "\n",
    "for bar in bars:\n",
    "    yval = bar.get_height()\n",
    "    plt.text(bar.get_x() + bar.get_width()/2, yval + 1, int(yval), ha='center', va='bottom')\n",
    "\n",
    "\n",
    "plt.title('Spam and Ham', fontsize=18)\n",
    "plt.xlabel('Label', fontsize=14)\n",
    "plt.ylabel('Count of Labels', fontsize=14)\n",
    "\n",
    "\n",
    "plt.xticks(ticks=range(len(labels.index)), labels=labels.index)\n",
    "\n",
    "plt.grid(axis='y', linestyle='--', alpha=0.7)\n",
    "plt.tight_layout()\n",
    "plt.show()"
   ]
  },
  {
   "cell_type": "code",
   "execution_count": 9,
   "id": "292f43e0",
   "metadata": {},
   "outputs": [
    {
     "name": "stdout",
     "output_type": "stream",
     "text": [
      "0         148\n",
      "1         808\n",
      "2        2235\n",
      "3         592\n",
      "4        1362\n",
      "         ... \n",
      "83443    2589\n",
      "83444     616\n",
      "83445     534\n",
      "83446    2113\n",
      "83447     223\n",
      "Name: length, Length: 83448, dtype: int64\n"
     ]
    }
   ],
   "source": [
    "df[\"length\"] = df[\"text\"].apply(len)\n",
    "print(df[\"length\"])\n"
   ]
  },
  {
   "cell_type": "code",
   "execution_count": 10,
   "id": "e4c9da2c",
   "metadata": {},
   "outputs": [
    {
     "name": "stdout",
     "output_type": "stream",
     "text": [
      "              length      Polarity  Subjectivity\n",
      "count   83448.000000  83448.000000  83448.000000\n",
      "mean     1662.952725      0.118250      0.442449\n",
      "std      4178.578068      0.166880      0.195201\n",
      "min         1.000000     -1.000000      0.000000\n",
      "25%       449.000000      0.003846      0.359012\n",
      "50%       879.000000      0.107407      0.452952\n",
      "75%      1861.000000      0.206667      0.541667\n",
      "max    598705.000000      1.000000      1.000000\n"
     ]
    }
   ],
   "source": [
    "from textblob import TextBlob\n",
    "def get_polarity(text):\n",
    "  textblob = TextBlob(str(text.encode(\"utf-8\")))\n",
    "  pol = textblob.sentiment.polarity\n",
    "  return pol\n",
    "def get_subjectivity(text):\n",
    "  textblob = TextBlob(str(text.encode(\"utf-8\")))\n",
    "  pol = textblob.sentiment.subjectivity\n",
    "  return pol\n",
    "\n",
    "df[\"Polarity\"] = df[\"text\"].apply(get_polarity)\n",
    "df[\"Subjectivity\"] = df[\"text\"].apply(get_subjectivity)\n",
    "\n",
    "print(df[['length', 'Polarity', 'Subjectivity']].describe())\n",
    "\n"
   ]
  },
  {
   "cell_type": "code",
   "execution_count": 11,
   "id": "61fe30c3",
   "metadata": {},
   "outputs": [
    {
     "data": {
      "application/vnd.microsoft.datawrangler.viewer.v0+json": {
       "columns": [
        {
         "name": "index",
         "rawType": "int64",
         "type": "integer"
        },
        {
         "name": "label",
         "rawType": "int64",
         "type": "integer"
        },
        {
         "name": "text",
         "rawType": "object",
         "type": "string"
        },
        {
         "name": "length",
         "rawType": "int64",
         "type": "integer"
        },
        {
         "name": "Polarity",
         "rawType": "float64",
         "type": "float"
        },
        {
         "name": "Subjectivity",
         "rawType": "float64",
         "type": "float"
        }
       ],
       "conversionMethod": "pd.DataFrame",
       "ref": "24ad0815-b598-4cc9-a5fb-bcb3ab49d7e2",
       "rows": [
        [
         "0",
         "1",
         "ounce feather bowl hummingbird opec moment alabaster valkyrie dyad bread flack desperate iambic hadron heft quell yoghurt bunkmate divert afterimage",
         "148",
         "-0.6",
         "1.0"
        ],
        [
         "1",
         "1",
         "wulvob get your medircations online qnb ikud viagra escapenumber escapenumber levitra escapenumber escapenumber cialis escapenumber escapenumber imitrex escapenumber escapenumber flonax escapenumber escapenumber ultram escapenumber escapenumber vioxx escapenumber escapenumber ambien escapenumber escapenumber valium escapenumber escapenumber xannax escapenumber escapenumber soma escapenumber meridia escapenumber escapenumber escapenumber escapenumber cysfrt have you ever stopped to wonder how much an average man pays for his mediecines ap painkillers drugs to improve the quality of life weight reducing tablets and many more escapenumber what's worse the same mediucine costs a lot more if it is branded rfwur are you intrested so http dmvrwm remunerativ net dfuaeirxygiq visit our website escapenumber",
         "808",
         "0.1357142857142857",
         "0.375"
        ],
        [
         "2",
         "0",
         " computer connection from cnn com wednesday escapenumber may escapenumber escapenumber escapenumber escapenumber pm edt in this report next generation toys read brain waves google expands personalization youtube wins webby old fashioned rabbit ears laptop review next generation toys read brain waves a startup company aims to add more realistic elements to video games by using brain wave reading technology to help game developers make gaming more realistic http www cnn com escapenumber tech fun games escapenumber escapenumber mind reading toys ap index html google expands personalization google is stepping up efforts to allow its users to personalize how they search the web http www cnn com escapenumber tech internet escapenumber escapenumber google personalization reut index html youtube wins webby the co founders youtube are among the winners of the annual webby online achievement awards http www cnn com escapenumber tech internet escapenumber escapenumber webby awards ap index html old fashioned rabbit ears some consumers are spending thousands of dollars on lcd or plasma tvs and hooking them up to escapenumber antennas http www cnn com escapenumber tech ptech escapenumber escapenumber rabbit ear revival ap index html laptop review dell's top shelf xps line has consistently put out distinctive laptops that feature the most advanced components on the market http www cnn com escapenumber tech ptech escapenumber escapenumber dell laptop index html cnn the most trusted name in news you have agreed to receive this email from cnn com as a result of your cnn com preference settings to manage your settings click here http audience cnn com services cnn memberservices member auth jsp url http escapenumbera escapenumberf escapelong cnn com escapelong escapenumberfcnn escapelong escapelong escapenumberfmember profile jsp escapenumberfsource escapenumberdcnn to unsubscribe from the computer connection email list click here http cgi cnn com cgi bin mail clik email ktwarwic speedy uwaterloo ca list computing read our privacy guidelines at http cnn com privacy html cable news network lp lllp one cnn center atlanta georgia escapenumber c escapenumber cable news network a time warner company all rights reserved ",
         "2235",
         "0.2268518518518519",
         "0.30648148148148147"
        ],
        [
         "3",
         "1",
         "university degree obtain a prosperous future money earning power and the prestige that comes with having the career position youve always dreamed of diploma from prestigious non accredited unversities based on your present knowledge and professional experience if you qualify no required tests classes books or examinations confidentiality assured escapenumber escapenumber escapenumber escapenumber escapenumber hours a day escapenumber days a week including sundays and holidays sun escapenumber jun escapenumber escapenumber escapenumber escapenumber escapenumbershall borrowfor you have ",
         "592",
         "0.03333333333333333",
         "0.075"
        ],
        [
         "4",
         "0",
         "thanks for all your answers guys i know i should have checked the rsync manual but i would rather get a escapenumber sure answer from one of you this is my current script bin bash rsync avt \\\\ exclude alpha \\\\ exclude arm \\\\ exclude hppa \\\\ exclude hurd \\\\ exclude iaescapenumber \\\\ exclude mescapenumberk \\\\ exclude mips \\\\ exclude mipsel \\\\ exclude multi arch \\\\ exclude powerpc \\\\ exclude sescapenumber \\\\ exclude sh \\\\ exclude sparc \\\\ exclude source \\\\ ftp de debian org debian cd var www mirror debian cd i know loads of excludes for now will include more distros soon from the rsync manual del an alias for delete during delete delete extraneous files from dest dirs delete before receiver deletes before transfer default delete during receiver deletes during xfer not before delete after receiver deletes after transfer not before delete excluded also delete excluded files from dest dirs which delete would you suggest i use thanks again john escapelong on escapenumber escapenumber escapenumber olleg samoylov wrote jonathan escapelong wrote sorry for the banal question my favourite keys for escapenumber stage rsync rsync verbose recursive links hard links times filter 'r tmp ' delete after delay updates source url destination log file olleg samoylov www escapelong org mirror escapelong org rcrack escapelong org ninux org wireless community rome ",
         "1362",
         "0.03854166666666665",
         "0.5288194444444445"
        ]
       ],
       "shape": {
        "columns": 5,
        "rows": 5
       }
      },
      "text/html": [
       "<div>\n",
       "<style scoped>\n",
       "    .dataframe tbody tr th:only-of-type {\n",
       "        vertical-align: middle;\n",
       "    }\n",
       "\n",
       "    .dataframe tbody tr th {\n",
       "        vertical-align: top;\n",
       "    }\n",
       "\n",
       "    .dataframe thead th {\n",
       "        text-align: right;\n",
       "    }\n",
       "</style>\n",
       "<table border=\"1\" class=\"dataframe\">\n",
       "  <thead>\n",
       "    <tr style=\"text-align: right;\">\n",
       "      <th></th>\n",
       "      <th>label</th>\n",
       "      <th>text</th>\n",
       "      <th>length</th>\n",
       "      <th>Polarity</th>\n",
       "      <th>Subjectivity</th>\n",
       "    </tr>\n",
       "  </thead>\n",
       "  <tbody>\n",
       "    <tr>\n",
       "      <th>0</th>\n",
       "      <td>1</td>\n",
       "      <td>ounce feather bowl hummingbird opec moment ala...</td>\n",
       "      <td>148</td>\n",
       "      <td>-0.600000</td>\n",
       "      <td>1.000000</td>\n",
       "    </tr>\n",
       "    <tr>\n",
       "      <th>1</th>\n",
       "      <td>1</td>\n",
       "      <td>wulvob get your medircations online qnb ikud v...</td>\n",
       "      <td>808</td>\n",
       "      <td>0.135714</td>\n",
       "      <td>0.375000</td>\n",
       "    </tr>\n",
       "    <tr>\n",
       "      <th>2</th>\n",
       "      <td>0</td>\n",
       "      <td>computer connection from cnn com wednesday es...</td>\n",
       "      <td>2235</td>\n",
       "      <td>0.226852</td>\n",
       "      <td>0.306481</td>\n",
       "    </tr>\n",
       "    <tr>\n",
       "      <th>3</th>\n",
       "      <td>1</td>\n",
       "      <td>university degree obtain a prosperous future m...</td>\n",
       "      <td>592</td>\n",
       "      <td>0.033333</td>\n",
       "      <td>0.075000</td>\n",
       "    </tr>\n",
       "    <tr>\n",
       "      <th>4</th>\n",
       "      <td>0</td>\n",
       "      <td>thanks for all your answers guys i know i shou...</td>\n",
       "      <td>1362</td>\n",
       "      <td>0.038542</td>\n",
       "      <td>0.528819</td>\n",
       "    </tr>\n",
       "  </tbody>\n",
       "</table>\n",
       "</div>"
      ],
      "text/plain": [
       "   label                                               text  length  Polarity  \\\n",
       "0      1  ounce feather bowl hummingbird opec moment ala...     148 -0.600000   \n",
       "1      1  wulvob get your medircations online qnb ikud v...     808  0.135714   \n",
       "2      0   computer connection from cnn com wednesday es...    2235  0.226852   \n",
       "3      1  university degree obtain a prosperous future m...     592  0.033333   \n",
       "4      0  thanks for all your answers guys i know i shou...    1362  0.038542   \n",
       "\n",
       "   Subjectivity  \n",
       "0      1.000000  \n",
       "1      0.375000  \n",
       "2      0.306481  \n",
       "3      0.075000  \n",
       "4      0.528819  "
      ]
     },
     "execution_count": 11,
     "metadata": {},
     "output_type": "execute_result"
    }
   ],
   "source": [
    "df.head()"
   ]
  },
  {
   "cell_type": "code",
   "execution_count": 12,
   "id": "78cd4c91",
   "metadata": {},
   "outputs": [],
   "source": [
    "df = df[['label', 'text']]"
   ]
  },
  {
   "cell_type": "code",
   "execution_count": 13,
   "id": "ebfc2ec7",
   "metadata": {},
   "outputs": [
    {
     "data": {
      "application/vnd.microsoft.datawrangler.viewer.v0+json": {
       "columns": [
        {
         "name": "index",
         "rawType": "int64",
         "type": "integer"
        },
        {
         "name": "label",
         "rawType": "int64",
         "type": "integer"
        },
        {
         "name": "text",
         "rawType": "object",
         "type": "string"
        }
       ],
       "conversionMethod": "pd.DataFrame",
       "ref": "ace05102-5331-4f01-8576-cd0da5dfb371",
       "rows": [
        [
         "0",
         "1",
         "ounce feather bowl hummingbird opec moment alabaster valkyrie dyad bread flack desperate iambic hadron heft quell yoghurt bunkmate divert afterimage"
        ],
        [
         "1",
         "1",
         "wulvob get your medircations online qnb ikud viagra escapenumber escapenumber levitra escapenumber escapenumber cialis escapenumber escapenumber imitrex escapenumber escapenumber flonax escapenumber escapenumber ultram escapenumber escapenumber vioxx escapenumber escapenumber ambien escapenumber escapenumber valium escapenumber escapenumber xannax escapenumber escapenumber soma escapenumber meridia escapenumber escapenumber escapenumber escapenumber cysfrt have you ever stopped to wonder how much an average man pays for his mediecines ap painkillers drugs to improve the quality of life weight reducing tablets and many more escapenumber what's worse the same mediucine costs a lot more if it is branded rfwur are you intrested so http dmvrwm remunerativ net dfuaeirxygiq visit our website escapenumber"
        ],
        [
         "2",
         "0",
         " computer connection from cnn com wednesday escapenumber may escapenumber escapenumber escapenumber escapenumber pm edt in this report next generation toys read brain waves google expands personalization youtube wins webby old fashioned rabbit ears laptop review next generation toys read brain waves a startup company aims to add more realistic elements to video games by using brain wave reading technology to help game developers make gaming more realistic http www cnn com escapenumber tech fun games escapenumber escapenumber mind reading toys ap index html google expands personalization google is stepping up efforts to allow its users to personalize how they search the web http www cnn com escapenumber tech internet escapenumber escapenumber google personalization reut index html youtube wins webby the co founders youtube are among the winners of the annual webby online achievement awards http www cnn com escapenumber tech internet escapenumber escapenumber webby awards ap index html old fashioned rabbit ears some consumers are spending thousands of dollars on lcd or plasma tvs and hooking them up to escapenumber antennas http www cnn com escapenumber tech ptech escapenumber escapenumber rabbit ear revival ap index html laptop review dell's top shelf xps line has consistently put out distinctive laptops that feature the most advanced components on the market http www cnn com escapenumber tech ptech escapenumber escapenumber dell laptop index html cnn the most trusted name in news you have agreed to receive this email from cnn com as a result of your cnn com preference settings to manage your settings click here http audience cnn com services cnn memberservices member auth jsp url http escapenumbera escapenumberf escapelong cnn com escapelong escapenumberfcnn escapelong escapelong escapenumberfmember profile jsp escapenumberfsource escapenumberdcnn to unsubscribe from the computer connection email list click here http cgi cnn com cgi bin mail clik email ktwarwic speedy uwaterloo ca list computing read our privacy guidelines at http cnn com privacy html cable news network lp lllp one cnn center atlanta georgia escapenumber c escapenumber cable news network a time warner company all rights reserved "
        ],
        [
         "3",
         "1",
         "university degree obtain a prosperous future money earning power and the prestige that comes with having the career position youve always dreamed of diploma from prestigious non accredited unversities based on your present knowledge and professional experience if you qualify no required tests classes books or examinations confidentiality assured escapenumber escapenumber escapenumber escapenumber escapenumber hours a day escapenumber days a week including sundays and holidays sun escapenumber jun escapenumber escapenumber escapenumber escapenumber escapenumbershall borrowfor you have "
        ],
        [
         "4",
         "0",
         "thanks for all your answers guys i know i should have checked the rsync manual but i would rather get a escapenumber sure answer from one of you this is my current script bin bash rsync avt \\\\ exclude alpha \\\\ exclude arm \\\\ exclude hppa \\\\ exclude hurd \\\\ exclude iaescapenumber \\\\ exclude mescapenumberk \\\\ exclude mips \\\\ exclude mipsel \\\\ exclude multi arch \\\\ exclude powerpc \\\\ exclude sescapenumber \\\\ exclude sh \\\\ exclude sparc \\\\ exclude source \\\\ ftp de debian org debian cd var www mirror debian cd i know loads of excludes for now will include more distros soon from the rsync manual del an alias for delete during delete delete extraneous files from dest dirs delete before receiver deletes before transfer default delete during receiver deletes during xfer not before delete after receiver deletes after transfer not before delete excluded also delete excluded files from dest dirs which delete would you suggest i use thanks again john escapelong on escapenumber escapenumber escapenumber olleg samoylov wrote jonathan escapelong wrote sorry for the banal question my favourite keys for escapenumber stage rsync rsync verbose recursive links hard links times filter 'r tmp ' delete after delay updates source url destination log file olleg samoylov www escapelong org mirror escapelong org rcrack escapelong org ninux org wireless community rome "
        ]
       ],
       "shape": {
        "columns": 2,
        "rows": 5
       }
      },
      "text/html": [
       "<div>\n",
       "<style scoped>\n",
       "    .dataframe tbody tr th:only-of-type {\n",
       "        vertical-align: middle;\n",
       "    }\n",
       "\n",
       "    .dataframe tbody tr th {\n",
       "        vertical-align: top;\n",
       "    }\n",
       "\n",
       "    .dataframe thead th {\n",
       "        text-align: right;\n",
       "    }\n",
       "</style>\n",
       "<table border=\"1\" class=\"dataframe\">\n",
       "  <thead>\n",
       "    <tr style=\"text-align: right;\">\n",
       "      <th></th>\n",
       "      <th>label</th>\n",
       "      <th>text</th>\n",
       "    </tr>\n",
       "  </thead>\n",
       "  <tbody>\n",
       "    <tr>\n",
       "      <th>0</th>\n",
       "      <td>1</td>\n",
       "      <td>ounce feather bowl hummingbird opec moment ala...</td>\n",
       "    </tr>\n",
       "    <tr>\n",
       "      <th>1</th>\n",
       "      <td>1</td>\n",
       "      <td>wulvob get your medircations online qnb ikud v...</td>\n",
       "    </tr>\n",
       "    <tr>\n",
       "      <th>2</th>\n",
       "      <td>0</td>\n",
       "      <td>computer connection from cnn com wednesday es...</td>\n",
       "    </tr>\n",
       "    <tr>\n",
       "      <th>3</th>\n",
       "      <td>1</td>\n",
       "      <td>university degree obtain a prosperous future m...</td>\n",
       "    </tr>\n",
       "    <tr>\n",
       "      <th>4</th>\n",
       "      <td>0</td>\n",
       "      <td>thanks for all your answers guys i know i shou...</td>\n",
       "    </tr>\n",
       "  </tbody>\n",
       "</table>\n",
       "</div>"
      ],
      "text/plain": [
       "   label                                               text\n",
       "0      1  ounce feather bowl hummingbird opec moment ala...\n",
       "1      1  wulvob get your medircations online qnb ikud v...\n",
       "2      0   computer connection from cnn com wednesday es...\n",
       "3      1  university degree obtain a prosperous future m...\n",
       "4      0  thanks for all your answers guys i know i shou..."
      ]
     },
     "execution_count": 13,
     "metadata": {},
     "output_type": "execute_result"
    }
   ],
   "source": [
    "df['text'] = df['text'].apply(lambda x: x.lower())\n",
    "df.head()"
   ]
  },
  {
   "cell_type": "code",
   "execution_count": 14,
   "id": "3bd8d1c6",
   "metadata": {},
   "outputs": [
    {
     "name": "stderr",
     "output_type": "stream",
     "text": [
      "<>:2: SyntaxWarning: invalid escape sequence '\\w'\n",
      "<>:3: SyntaxWarning: invalid escape sequence '\\/'\n",
      "<>:4: SyntaxWarning: invalid escape sequence '\\?'\n",
      "<>:5: SyntaxWarning: invalid escape sequence '\\s'\n",
      "<>:6: SyntaxWarning: invalid escape sequence '\\.'\n",
      "<>:7: SyntaxWarning: invalid escape sequence '\\s'\n",
      "<>:11: SyntaxWarning: invalid escape sequence '\\s'\n",
      "<>:2: SyntaxWarning: invalid escape sequence '\\w'\n",
      "<>:3: SyntaxWarning: invalid escape sequence '\\/'\n",
      "<>:4: SyntaxWarning: invalid escape sequence '\\?'\n",
      "<>:5: SyntaxWarning: invalid escape sequence '\\s'\n",
      "<>:6: SyntaxWarning: invalid escape sequence '\\.'\n",
      "<>:7: SyntaxWarning: invalid escape sequence '\\s'\n",
      "<>:11: SyntaxWarning: invalid escape sequence '\\s'\n",
      "/tmp/ipykernel_92036/351051685.py:2: SyntaxWarning: invalid escape sequence '\\w'\n",
      "  texts=re.sub('(#|@)\\w*',\"\",texts)\n",
      "/tmp/ipykernel_92036/351051685.py:3: SyntaxWarning: invalid escape sequence '\\/'\n",
      "  texts=re.sub(\"https?:\\/\\/\\S+\",\"\",texts)\n",
      "/tmp/ipykernel_92036/351051685.py:4: SyntaxWarning: invalid escape sequence '\\?'\n",
      "  texts=re.sub(\"(\\?|!)+\",\" \",texts)\n",
      "/tmp/ipykernel_92036/351051685.py:5: SyntaxWarning: invalid escape sequence '\\s'\n",
      "  texts=re.sub(\"\\s\\d+\\s\",\"\",texts)\n",
      "/tmp/ipykernel_92036/351051685.py:6: SyntaxWarning: invalid escape sequence '\\.'\n",
      "  texts=re.sub(\"(\\.|\\,)+\",\"\",texts)\n",
      "/tmp/ipykernel_92036/351051685.py:7: SyntaxWarning: invalid escape sequence '\\s'\n",
      "  texts=re.sub(\"^\\s+\",\"\",texts)\n",
      "/tmp/ipykernel_92036/351051685.py:11: SyntaxWarning: invalid escape sequence '\\s'\n",
      "  texts=re.sub(\"\\s+$\",\"\",texts)\n"
     ]
    }
   ],
   "source": [
    "def clean_text(texts):\n",
    "    texts=re.sub('(#|@)\\w*',\"\",texts)\n",
    "    texts=re.sub(\"https?:\\/\\/\\S+\",\"\",texts)\n",
    "    texts=re.sub(\"(\\?|!)+\",\" \",texts)\n",
    "    texts=re.sub(\"\\s\\d+\\s\",\"\",texts)\n",
    "    texts=re.sub(\"(\\.|\\,)+\",\"\",texts)\n",
    "    texts=re.sub(\"^\\s+\",\"\",texts)\n",
    "    texts = re.sub(r'([a-zA-Z])(\\d)', r'\\1 \\2', texts)\n",
    "    texts = re.sub(r'(\\d)([a-zA-Z])', r'\\1 \\2', texts)\n",
    "    texts = re.sub(r'([a-z])([A-Z])', r'\\1 \\2', texts)\n",
    "    texts=re.sub(\"\\s+$\",\"\",texts)\n",
    "    text = texts.strip()\n",
    "    return texts"
   ]
  },
  {
   "cell_type": "code",
   "execution_count": 15,
   "id": "9c3a1cf1",
   "metadata": {},
   "outputs": [],
   "source": [
    "df['text'] = df['text'].apply(clean_text)"
   ]
  },
  {
   "cell_type": "code",
   "execution_count": 16,
   "id": "767d46eb",
   "metadata": {},
   "outputs": [
    {
     "name": "stderr",
     "output_type": "stream",
     "text": [
      "[nltk_data] Downloading package stopwords to\n",
      "[nltk_data]     /home/akshita/nltk_data...\n",
      "[nltk_data]   Package stopwords is already up-to-date!\n"
     ]
    },
    {
     "data": {
      "text/plain": [
       "True"
      ]
     },
     "execution_count": 16,
     "metadata": {},
     "output_type": "execute_result"
    }
   ],
   "source": [
    "import nltk\n",
    "nltk.download('stopwords')"
   ]
  },
  {
   "cell_type": "code",
   "execution_count": 17,
   "id": "edb3ee44",
   "metadata": {},
   "outputs": [
    {
     "name": "stdout",
     "output_type": "stream",
     "text": [
      "['a', 'about', 'above', 'after', 'again', 'against', 'ain', 'all', 'am', 'an', 'and', 'any', 'are', 'aren', \"aren't\", 'as', 'at', 'be', 'because', 'been', 'before', 'being', 'below', 'between', 'both', 'but', 'by', 'can', 'couldn', \"couldn't\", 'd', 'did', 'didn', \"didn't\", 'do', 'does', 'doesn', \"doesn't\", 'doing', 'don', \"don't\", 'down', 'during', 'each', 'few', 'for', 'from', 'further', 'had', 'hadn', \"hadn't\", 'has', 'hasn', \"hasn't\", 'have', 'haven', \"haven't\", 'having', 'he', \"he'd\", \"he'll\", 'her', 'here', 'hers', 'herself', \"he's\", 'him', 'himself', 'his', 'how', 'i', \"i'd\", 'if', \"i'll\", \"i'm\", 'in', 'into', 'is', 'isn', \"isn't\", 'it', \"it'd\", \"it'll\", \"it's\", 'its', 'itself', \"i've\", 'just', 'll', 'm', 'ma', 'me', 'mightn', \"mightn't\", 'more', 'most', 'mustn', \"mustn't\", 'my', 'myself', 'needn', \"needn't\", 'no', 'nor', 'not', 'now', 'o', 'of', 'off', 'on', 'once', 'only', 'or', 'other', 'our', 'ours', 'ourselves', 'out', 'over', 'own', 're', 's', 'same', 'shan', \"shan't\", 'she', \"she'd\", \"she'll\", \"she's\", 'should', 'shouldn', \"shouldn't\", \"should've\", 'so', 'some', 'such', 't', 'than', 'that', \"that'll\", 'the', 'their', 'theirs', 'them', 'themselves', 'then', 'there', 'these', 'they', \"they'd\", \"they'll\", \"they're\", \"they've\", 'this', 'those', 'through', 'to', 'too', 'under', 'until', 'up', 've', 'very', 'was', 'wasn', \"wasn't\", 'we', \"we'd\", \"we'll\", \"we're\", 'were', 'weren', \"weren't\", \"we've\", 'what', 'when', 'where', 'which', 'while', 'who', 'whom', 'why', 'will', 'with', 'won', \"won't\", 'wouldn', \"wouldn't\", 'y', 'you', \"you'd\", \"you'll\", 'your', \"you're\", 'yours', 'yourself', 'yourselves', \"you've\"]\n"
     ]
    }
   ],
   "source": [
    "stop_words = stopwords.words('english')\n",
    "print(stop_words)"
   ]
  },
  {
   "cell_type": "code",
   "execution_count": 18,
   "id": "33e9c97e",
   "metadata": {},
   "outputs": [
    {
     "name": "stderr",
     "output_type": "stream",
     "text": [
      "[nltk_data] Downloading package punkt to /home/akshita/nltk_data...\n",
      "[nltk_data]   Package punkt is already up-to-date!\n",
      "[nltk_data] Downloading package wordnet to /home/akshita/nltk_data...\n",
      "[nltk_data]   Package wordnet is already up-to-date!\n"
     ]
    },
    {
     "data": {
      "text/plain": [
       "True"
      ]
     },
     "execution_count": 18,
     "metadata": {},
     "output_type": "execute_result"
    }
   ],
   "source": [
    "import nltk\n",
    "nltk.download('punkt')\n",
    "nltk.download('wordnet')"
   ]
  },
  {
   "cell_type": "code",
   "execution_count": 19,
   "id": "31816712",
   "metadata": {},
   "outputs": [
    {
     "name": "stdout",
     "output_type": "stream",
     "text": [
      "/home/akshita/nltk_data/tokenizers/punkt\n"
     ]
    }
   ],
   "source": [
    "import nltk\n",
    "print(nltk.data.find('tokenizers/punkt'))"
   ]
  },
  {
   "cell_type": "code",
   "execution_count": 20,
   "id": "b72428c9",
   "metadata": {},
   "outputs": [],
   "source": [
    "import os\n",
    "os.environ['NLTK_DATA'] = '/home/akshita/nltk_data'"
   ]
  },
  {
   "cell_type": "code",
   "execution_count": 21,
   "id": "189a15d9",
   "metadata": {},
   "outputs": [
    {
     "name": "stderr",
     "output_type": "stream",
     "text": [
      "[nltk_data] Downloading package punkt to /home/akshita/nltk_data...\n",
      "[nltk_data]   Package punkt is already up-to-date!\n"
     ]
    },
    {
     "data": {
      "text/plain": [
       "True"
      ]
     },
     "execution_count": 21,
     "metadata": {},
     "output_type": "execute_result"
    }
   ],
   "source": [
    "import nltk\n",
    "nltk.download('punkt', download_dir='/home/akshita/nltk_data')"
   ]
  },
  {
   "cell_type": "code",
   "execution_count": 22,
   "id": "3faf317c",
   "metadata": {},
   "outputs": [
    {
     "name": "stdout",
     "output_type": "stream",
     "text": [
      "/home/akshita/nltk_data/tokenizers/punkt\n"
     ]
    }
   ],
   "source": [
    "import nltk\n",
    "print(nltk.data.find('tokenizers/punkt'))"
   ]
  },
  {
   "cell_type": "code",
   "execution_count": 24,
   "id": "d94a9582",
   "metadata": {},
   "outputs": [],
   "source": [
    "from nltk.stem import WordNetLemmatizer\n",
    "import re\n",
    "\n",
    "wnl = WordNetLemmatizer()\n",
    "corpus = []\n",
    "for text in df['text']:\n",
    "    # Use regex to extract words (only alphabetic)\n",
    "    words = re.findall(r'\\b[a-zA-Z]+\\b', text.lower())\n",
    "    # Remove stopwords and lemmatize\n",
    "    words = [wnl.lemmatize(word) for word in words if word not in stop_words]\n",
    "    text = ' '.join(words)\n",
    "    corpus.append(text)"
   ]
  },
  {
   "cell_type": "code",
   "execution_count": 25,
   "id": "c678f2d8",
   "metadata": {},
   "outputs": [
    {
     "data": {
      "text/plain": [
       "'wulvob get medircations online qnb ikud viagra escapenumber escapenumber levitra escapenumber escapenumber cialis escapenumber escapenumber imitrex escapenumber escapenumber flonax escapenumber escapenumber ultram escapenumber escapenumber vioxx escapenumber escapenumber ambien escapenumber escapenumber valium escapenumber escapenumber xannax escapenumber escapenumber soma escapenumber meridia escapenumber escapenumber escapenumber escapenumber cysfrt ever stopped wonder much average man pay mediecines ap painkiller drug improve quality life weight reducing tablet many escapenumber worse mediucine cost lot branded rfwur intrested http dmvrwm remunerativ net dfuaeirxygiq visit website escapenumber'"
      ]
     },
     "execution_count": 25,
     "metadata": {},
     "output_type": "execute_result"
    }
   ],
   "source": [
    "corpus[1]"
   ]
  },
  {
   "cell_type": "code",
   "execution_count": 26,
   "id": "92e0bcb0",
   "metadata": {},
   "outputs": [
    {
     "data": {
      "text/plain": [
       "'computer connection cnn com wednesday escapenumber may escapenumber escapenumber escapenumber escapenumber pm edt report next generation toy read brain wave google expands personalization youtube win webby old fashioned rabbit ear laptop review next generation toy read brain wave startup company aim add realistic element video game using brain wave reading technology help game developer make gaming realistic http www cnn com escapenumber tech fun game escapenumber escapenumber mind reading toy ap index html google expands personalization google stepping effort allow user personalize search web http www cnn com escapenumber tech internet escapenumber escapenumber google personalization reut index html youtube win webby co founder youtube among winner annual webby online achievement award http www cnn com escapenumber tech internet escapenumber escapenumber webby award ap index html old fashioned rabbit ear consumer spending thousand dollar lcd plasma tv hooking escapenumber antenna http www cnn com escapenumber tech ptech escapenumber escapenumber rabbit ear revival ap index html laptop review dell top shelf xps line consistently put distinctive laptop feature advanced component market http www cnn com escapenumber tech ptech escapenumber escapenumber dell laptop index html cnn trusted name news agreed receive email cnn com result cnn com preference setting manage setting click http audience cnn com service cnn memberservices member auth jsp url http escapenumbera escapenumberf escapelong cnn com escapelong escapenumberfcnn escapelong escapelong escapenumberfmember profile jsp escapenumberfsource escapenumberdcnn unsubscribe computer connection email list click http cgi cnn com cgi bin mail clik email ktwarwic speedy uwaterloo ca list computing read privacy guideline http cnn com privacy html cable news network lp lllp one cnn center atlanta georgia escapenumber c escapenumber cable news network time warner company right reserved'"
      ]
     },
     "execution_count": 26,
     "metadata": {},
     "output_type": "execute_result"
    }
   ],
   "source": [
    "corpus[2]"
   ]
  },
  {
   "cell_type": "code",
   "execution_count": 27,
   "id": "13acab24",
   "metadata": {},
   "outputs": [
    {
     "name": "stdout",
     "output_type": "stream",
     "text": [
      "(83448, 2500)\n",
      "(83448,)\n"
     ]
    }
   ],
   "source": [
    "cv = TfidfVectorizer(max_features=2500)\n",
    "\n",
    "x = cv.fit_transform(corpus).toarray()\n",
    "y = df['label']\n",
    "\n",
    "print(x.shape)\n",
    "print(y.shape)\n",
    "\n"
   ]
  },
  {
   "cell_type": "code",
   "execution_count": 28,
   "id": "b4580fd8",
   "metadata": {},
   "outputs": [
    {
     "name": "stdout",
     "output_type": "stream",
     "text": [
      "(66758, 2500)\n",
      "(66758,)\n",
      "(16690, 2500)\n",
      "(16690,)\n"
     ]
    }
   ],
   "source": [
    "x_train,x_test,y_train,y_test = train_test_split(x,y,test_size=0.2,random_state=45)\n",
    "print(x_train.shape)\n",
    "print(y_train.shape)\n",
    "print(x_test.shape)\n",
    "print(y_test.shape)\n"
   ]
  },
  {
   "cell_type": "code",
   "execution_count": 29,
   "id": "bfc5dcde",
   "metadata": {},
   "outputs": [],
   "source": [
    "from sklearn.ensemble import RandomForestClassifier\n",
    "\n",
    "rfc = RandomForestClassifier(criterion = 'gini', max_depth = 7, max_features = 'sqrt', min_samples_leaf = 2, min_samples_split = 4, n_estimators = 180)\n",
    "rfc.fit(x_train, y_train)\n",
    "\n",
    "y_pred5 = rfc.predict(x_test)\n",
    "\n",
    "acc5=accuracy_score(y_test,y_pred5)\n"
   ]
  },
  {
   "cell_type": "code",
   "execution_count": null,
   "id": "ce9bb5bb",
   "metadata": {},
   "outputs": [
    {
     "name": "stdout",
     "output_type": "stream",
     "text": [
      "Training accuracy score of the model is: 87.76326432787081 %\n",
      "Testing accuracy score of the model is: 87.48951467944877 %\n"
     ]
    }
   ],
   "source": [
    "print(\"Training accuracy score of the model is:\",accuracy_score(y_train, rfc.predict(x_train))*100,\"%\")\n",
    "print(\"Testing accuracy score of the model is:\",accuracy_score(y_test,y_pred5)*100,\"%\")"
   ]
  },
  {
   "cell_type": "code",
   "execution_count": 31,
   "id": "78d13160",
   "metadata": {},
   "outputs": [],
   "source": [
    "model1 = GaussianNB()\n",
    "model1.fit(x_train, y_train)\n",
    "y_pred1 = model1.predict(x_test)\n",
    "acc1=accuracy_score(y_test,y_pred1)"
   ]
  },
  {
   "cell_type": "code",
   "execution_count": null,
   "id": "7c60eebb",
   "metadata": {},
   "outputs": [
    {
     "name": "stdout",
     "output_type": "stream",
     "text": [
      "Training accuracy score of the model is: 95.8102399712394 %\n",
      "Testing accuracy score of the model is: 95.65608148591971 %\n"
     ]
    }
   ],
   "source": [
    "print(\"Training accuracy score of the model is:\",accuracy_score(y_train, model1.predict(x_train))*100,\"%\")\n",
    "print(\"Testing accuracy score of the model is:\",accuracy_score(y_test,y_pred1)*100,\"%\")"
   ]
  },
  {
   "cell_type": "code",
   "execution_count": 33,
   "id": "2908188a",
   "metadata": {},
   "outputs": [],
   "source": [
    "model2=MultinomialNB()\n",
    "model2.fit(x_train,y_train)\n",
    "y_pred2=model2.predict(x_test)\n",
    "acc2=accuracy_score(y_test,y_pred2)"
   ]
  },
  {
   "cell_type": "code",
   "execution_count": 34,
   "id": "6f5bcf3b",
   "metadata": {},
   "outputs": [
    {
     "name": "stdout",
     "output_type": "stream",
     "text": [
      "Training accuracy score of the model is: 95.37883100152791 %\n",
      "Testing accuracy score of the model is: 95.5122828040743 %\n"
     ]
    }
   ],
   "source": [
    "print(\"Training accuracy score of the model is:\",accuracy_score(y_train, model2.predict(x_train))*100,\"%\")\n",
    "print(\"Testing accuracy score of the model is:\",accuracy_score(y_test,y_pred2)*100,\"%\")"
   ]
  },
  {
   "cell_type": "code",
   "execution_count": 35,
   "id": "9e46fa05",
   "metadata": {},
   "outputs": [
    {
     "name": "stdout",
     "output_type": "stream",
     "text": [
      "Model saved to: saved_model.pkl\n",
      "TF-IDF vectorizer saved to: saved_tfidf.pkl\n"
     ]
    }
   ],
   "source": [
    "import pickle  \n",
    "\n",
    "model_filename = \"saved_model.pkl\" \n",
    "tfidf_filename=\"saved_tfidf.pkl\"\n",
    "with open(model_filename, 'wb') as file:\n",
    "    pickle.dump(model1, file)\n",
    "with open(tfidf_filename, 'wb') as file:\n",
    "    pickle.dump(cv, file)\n",
    "print(f\"Model saved to: {model_filename}\")\n",
    "print(f\"TF-IDF vectorizer saved to: {tfidf_filename}\")"
   ]
  },
  {
   "cell_type": "code",
   "execution_count": 36,
   "id": "7e97a930",
   "metadata": {},
   "outputs": [
    {
     "name": "stdout",
     "output_type": "stream",
     "text": [
      "Prediction: Ham\n"
     ]
    }
   ],
   "source": [
    "import pickle\n",
    "import re\n",
    "\n",
    "\n",
    "with open(\"saved_model.pkl\", \"rb\") as file:\n",
    "    model = pickle.load(file)\n",
    "\n",
    "with open(\"saved_tfidf.pkl\", \"rb\") as file:\n",
    "    tfidf = pickle.load(file)\n",
    "\n",
    "def clean_text(texts):\n",
    "    texts = re.sub(r'(#|@)\\w*', '', texts)\n",
    "    texts = re.sub(r'https?://\\S+|www\\.\\S+', '', texts)\n",
    "    texts = re.sub(r'(\\?|!)+', ' ', texts)\n",
    "    texts = re.sub(r'\\s\\d+\\s', ' ', texts)\n",
    "    texts = re.sub(r'[\\.,]+', '', texts)\n",
    "    texts = re.sub(r'^\\s+', '', texts)\n",
    "    texts = re.sub(r'\\s+$', '', texts)\n",
    "    texts = re.sub(r'([a-zA-Z])(\\d)', r'\\1 \\2', texts)\n",
    "    texts = re.sub(r'(\\d)([a-zA-Z])', r'\\1 \\2', texts)\n",
    "    texts = re.sub(r'([a-z])([A-Z])', r'\\1 \\2', texts)\n",
    "    texts = re.sub(r'\\s+', ' ', texts)\n",
    "    return texts.strip()\n",
    "email = \"Just a quick reminder about our meeting scheduled for tomorrow at 10:00 AM. Let me know if you need to reschedule.Best regards,Sarah\"\n",
    "cleaned_email = clean_text(email)\n",
    "\n",
    "\n",
    "X_input = tfidf.transform([cleaned_email]).toarray()\n",
    "\n",
    "\n",
    "prediction = model.predict(X_input)\n",
    "\n",
    "\n",
    "label = \"Spam\" if prediction[0] == 1 else \"Ham\"\n",
    "print(f\"Prediction: {label}\")"
   ]
  },
  {
   "cell_type": "code",
   "execution_count": 37,
   "id": "e740dc1c",
   "metadata": {},
   "outputs": [
    {
     "name": "stdout",
     "output_type": "stream",
     "text": [
      "Email 1: Ham\n",
      "Email 2: Spam\n",
      "Email 3: Ham\n",
      "Email 4: Spam\n",
      "Email 5: Ham\n"
     ]
    }
   ],
   "source": [
    "import pickle\n",
    "import re\n",
    "\n",
    "\n",
    "with open(\"saved_model.pkl\", \"rb\") as file:\n",
    "    model = pickle.load(file)\n",
    "\n",
    "with open(\"saved_tfidf.pkl\", \"rb\") as file:\n",
    "    tfidf = pickle.load(file)\n",
    "\n",
    "def clean_text(texts):\n",
    "    texts = re.sub(r'(#|@)\\w*', '', texts)\n",
    "    texts = re.sub(r'https?://\\S+|www\\.\\S+', '', texts)\n",
    "    texts = re.sub(r'(\\?|!)+', ' ', texts)\n",
    "    texts = re.sub(r'\\s\\d+\\s', ' ', texts)\n",
    "    texts = re.sub(r'[\\.,]+', '', texts)\n",
    "    texts = re.sub(r'^\\s+', '', texts)\n",
    "    texts = re.sub(r'\\s+$', '', texts)\n",
    "    texts = re.sub(r'([a-zA-Z])(\\d)', r'\\1 \\2', texts)\n",
    "    texts = re.sub(r'(\\d)([a-zA-Z])', r'\\1 \\2', texts)\n",
    "    texts = re.sub(r'([a-z])([A-Z])', r'\\1 \\2', texts)\n",
    "    texts = re.sub(r'\\s+', ' ', texts)\n",
    "    return texts.strip()\n",
    "\n",
    "emails = [\n",
    "    \"Just a quick reminder about our meeting scheduled for tomorrow at 10:00 AM. Let me know if you need to reschedule. Best regards, Sarah\",\n",
    "    \"WIN a brand new car! Click here now and claim your free prize!!!\",\n",
    "    \"Please see the attached invoice for your recent order. Contact us if you have any questions.\",\n",
    "    \"Urgent: Your PayPal account has been suspended. Click here to verify your identity.\",\n",
    "    \"Hi! I hope you're having a great week. Just checking in.\"\n",
    "]\n",
    "\n",
    "\n",
    "for i, email in enumerate(emails):\n",
    "    cleaned_email = clean_text(email)\n",
    "    X_input = tfidf.transform([cleaned_email]).toarray()\n",
    "    prediction = model.predict(X_input)\n",
    "    label = \"Spam\" if prediction[0] == 1 else \"Ham\"\n",
    "    print(f\"Email {i+1}: {label}\")\n",
    "\n"
   ]
  },
  {
   "cell_type": "code",
   "execution_count": null,
   "id": "2c2b8e77",
   "metadata": {},
   "outputs": [],
   "source": []
  },
  {
   "cell_type": "code",
   "execution_count": null,
   "id": "1000c5c1",
   "metadata": {},
   "outputs": [],
   "source": []
  },
  {
   "cell_type": "code",
   "execution_count": null,
   "id": "2079ef50",
   "metadata": {},
   "outputs": [],
   "source": []
  },
  {
   "cell_type": "code",
   "execution_count": null,
   "id": "b0ea05b6",
   "metadata": {},
   "outputs": [],
   "source": []
  }
 ],
 "metadata": {
  "kernelspec": {
   "display_name": "ML",
   "language": "python",
   "name": "python3"
  },
  "language_info": {
   "codemirror_mode": {
    "name": "ipython",
    "version": 3
   },
   "file_extension": ".py",
   "mimetype": "text/x-python",
   "name": "python",
   "nbconvert_exporter": "python",
   "pygments_lexer": "ipython3",
   "version": "3.12.5"
  }
 },
 "nbformat": 4,
 "nbformat_minor": 5
}
